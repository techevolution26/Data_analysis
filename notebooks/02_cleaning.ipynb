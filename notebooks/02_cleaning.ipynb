{
 "cells": [
  {
   "cell_type": "code",
   "execution_count": null,
   "id": "fbb968ec",
   "metadata": {},
   "outputs": [
    {
     "name": "stdout",
     "output_type": "stream",
     "text": [
      "new_cases     0\n",
      "new_deaths    0\n",
      "dtype: int64\n"
     ]
    }
   ],
   "source": [
    "import pandas as pd\n",
    "\n",
    "df = pd.read_csv(\"../data/raw/owid-covid-data.csv\", parse_dates=[\"date\"])\n",
    "\n",
    "# 1. Filter to a few countries\n",
    "countries = [\"United States\", \"India\", \"Kenya\", \"Brazil\", \"Germany\"]\n",
    "df_sub = df[df.location.isin(countries)].copy()\n",
    "\n",
    "# Droping rows missing critical values\n",
    "df_sub.dropna(subset=[\"date\", \"total_cases\"], inplace=True)\n",
    "\n",
    "# Ensure date dtype\n",
    "df_sub[\"date\"] = pd.to_datetime(df_sub[\"date\"])\n",
    "\n",
    "df_sub.sort_values([\"location\", \"date\"], inplace=True)\n",
    "\n",
    "# Filling missing daily numbers with zeros via transform\n",
    "df_sub[\"new_cases\"] = (\n",
    "    df_sub\n",
    "      .groupby(\"location\")[\"new_cases\"]\n",
    "      .transform(lambda x: x.fillna(0))\n",
    ")\n",
    "df_sub[\"new_deaths\"] = (\n",
    "    df_sub\n",
    "      .groupby(\"location\")[\"new_deaths\"]\n",
    "      .transform(lambda x: x.fillna(0))\n",
    ")\n",
    "\n",
    "print(df_sub[[\"new_cases\", \"new_deaths\"]].isnull().sum())\n"
   ]
  },
  {
   "cell_type": "code",
   "execution_count": 5,
   "id": "a7e75f60",
   "metadata": {},
   "outputs": [],
   "source": [
    "df_sub[\"total_vaccinations\"] = df_sub[\"total_vaccinations\"].fillna(0)"
   ]
  },
  {
   "cell_type": "code",
   "execution_count": 6,
   "id": "0f07dd4e",
   "metadata": {},
   "outputs": [
    {
     "name": "stdout",
     "output_type": "stream",
     "text": [
      "total_vaccinations      0\n",
      "death_rate            175\n",
      "pct_vaccinated          0\n",
      "dtype: int64\n"
     ]
    }
   ],
   "source": [
    "# Death rate = total_deaths / total_cases\n",
    "df_sub[\"death_rate\"] = df_sub[\"total_deaths\"] / df_sub[\"total_cases\"]\n",
    "\n",
    "# Vaccination percentage of population\n",
    "df_sub[\"pct_vaccinated\"] = df_sub[\"total_vaccinations\"] / df_sub[\"population\"] * 100\n",
    "\n",
    "# Quick null‐check\n",
    "print(df_sub[[\"total_vaccinations\",\"death_rate\",\"pct_vaccinated\"]].isnull().sum())\n"
   ]
  },
  {
   "cell_type": "code",
   "execution_count": 7,
   "id": "bdfb948b",
   "metadata": {},
   "outputs": [
    {
     "name": "stdout",
     "output_type": "stream",
     "text": [
      "0\n"
     ]
    }
   ],
   "source": [
    "df_sub = df_sub[df_sub.total_cases > 0].copy()\n",
    "\n",
    "df_sub[\"death_rate\"] = df_sub[\"total_deaths\"] / df_sub[\"total_cases\"]\n",
    "\n",
    "print(df_sub[\"death_rate\"].isnull().sum())   # should be 0\n"
   ]
  },
  {
   "cell_type": "code",
   "execution_count": 8,
   "id": "e8249571",
   "metadata": {},
   "outputs": [
    {
     "name": "stdout",
     "output_type": "stream",
     "text": [
      "new_cases             0\n",
      "new_deaths            0\n",
      "total_vaccinations    0\n",
      "death_rate            0\n",
      "pct_vaccinated        0\n",
      "dtype: int64\n"
     ]
    }
   ],
   "source": [
    "print(df_sub[[\"new_cases\",\"new_deaths\",\"total_vaccinations\",\"death_rate\",\"pct_vaccinated\"]].isnull().sum())\n"
   ]
  },
  {
   "cell_type": "code",
   "execution_count": null,
   "id": "9cd49829",
   "metadata": {},
   "outputs": [],
   "source": [
    "import pandas as pd\n",
    "import matplotlib.pyplot as plt\n",
    "\n",
    "df = pd.read_csv(\"../data/raw/owid-covid-data.csv\", parse_dates=[\"date\"])\n",
    "\n",
    "countries = [\"United States\", \"India\", \"Kenya\", \"Brazil\", \"Germany\"]\n",
    "\n",
    "df_sub = df[df.location.isin(countries)].copy()\n",
    "df_sub.dropna(subset=[\"date\",\"total_cases\"], inplace=True)\n",
    "df_sub[\"date\"] = pd.to_datetime(df_sub[\"date\"])\n",
    "df_sub.sort_values([\"location\",\"date\"], inplace=True)\n",
    "df_sub[\"new_cases\"]   = df_sub.groupby(\"location\")[\"new_cases\"].transform(lambda x: x.fillna(0))\n",
    "df_sub[\"new_deaths\"]  = df_sub.groupby(\"location\")[\"new_deaths\"].transform(lambda x: x.fillna(0))\n",
    "df_sub[\"total_vaccinations\"] = df_sub[\"total_vaccinations\"].fillna(0)\n",
    "df_sub[\"death_rate\"]  = (df_sub[\"total_deaths\"] / df_sub[\"total_cases\"]).fillna(0)\n",
    "df_sub[\"pct_vaccinated\"] = df_sub[\"total_vaccinations\"] / df_sub[\"population\"] * 100\n"
   ]
  }
 ],
 "metadata": {
  "kernelspec": {
   "display_name": ".venv",
   "language": "python",
   "name": "python3"
  },
  "language_info": {
   "codemirror_mode": {
    "name": "ipython",
    "version": 3
   },
   "file_extension": ".py",
   "mimetype": "text/x-python",
   "name": "python",
   "nbconvert_exporter": "python",
   "pygments_lexer": "ipython3",
   "version": "3.12.3"
  }
 },
 "nbformat": 4,
 "nbformat_minor": 5
}
