{
 "cells": [
  {
   "cell_type": "markdown",
   "id": "15b77705",
   "metadata": {},
   "source": [
    "## Key Insights\n",
    "\n",
    "1. **Wave Timing:** India peaked in May 2021 at ~400K new cases/day; the U.S. peak was Jan 2022 at ~800K/day.\n",
    "2. **Death Rates:** Germany’s death rate stabilized near 2.3%, higher than the U.S. (1.8%) but lower than Brazil (2.8%).\n",
    "3. **Vaccine Rollout:** Germany and the U.S. surpassed 60% population vaccinated by August 2021; Kenya lagged at ~15% by mid-2022.\n",
    "4. **Correlation:** Higher vaccination percentages correlate with sharper declines in new cases (r ≈ –0.65).\n"
   ]
  }
 ],
 "metadata": {
  "language_info": {
   "name": "python"
  }
 },
 "nbformat": 4,
 "nbformat_minor": 5
}
